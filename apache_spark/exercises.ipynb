{
 "cells": [
  {
   "cell_type": "code",
   "execution_count": 21,
   "metadata": {
    "collapsed": false,
    "scrolled": true
   },
   "outputs": [
    {
     "data": {
      "text/plain": [
       "[(u'birth', 1),\n",
       " (u'hate', 1),\n",
       " (u'arrogant', 1),\n",
       " (u'We', 1),\n",
       " (u'implicate', 1),\n",
       " (u'but', 1),\n",
       " (u'Meditations', 1),\n",
       " (u'to', 3),\n",
       " (u'wrongdoer', 1),\n",
       " (u'has', 1),\n",
       " (u'Nor', 1),\n",
       " (u'And', 1),\n",
       " (u'them', 1),\n",
       " (u'good', 2),\n",
       " (u'they', 1),\n",
       " (u'hands', 1),\n",
       " (u'not', 1),\n",
       " (u'yourself', 1),\n",
       " (u'him', 2),\n",
       " (u'like', 3),\n",
       " (u'dishonest', 1),\n",
       " (u'morning', 1),\n",
       " (u'these', 1),\n",
       " (u't', 1),\n",
       " (u'each', 1),\n",
       " (u'obstruct', 1),\n",
       " (u'upper', 1),\n",
       " (u'because', 1),\n",
       " (u'From', 1),\n",
       " (u'deal', 1),\n",
       " (u'people', 1),\n",
       " (u'back', 1),\n",
       " (u'related', 1),\n",
       " (u'relative', 1),\n",
       " (u'born', 1),\n",
       " (u'are', 2),\n",
       " (u'surly', 1),\n",
       " (u'divine', 1),\n",
       " (u'unnatural', 1),\n",
       " (u'obstructions', 1),\n",
       " (u'be', 1),\n",
       " (u'nature', 1),\n",
       " (u'on', 1),\n",
       " (u'of', 6),\n",
       " (u'recognized', 1),\n",
       " (u'turn', 1),\n",
       " (u'or', 2),\n",
       " (u'own', 1),\n",
       " (u'No', 1),\n",
       " (u'feel', 2),\n",
       " (u'possessing', 1),\n",
       " (u'When', 1),\n",
       " (u'one', 1),\n",
       " (u'feet', 1),\n",
       " (u'your', 1),\n",
       " (u'rows', 1),\n",
       " (u'from', 1),\n",
       " (u'angry', 1),\n",
       " (u'two', 1),\n",
       " (u'But', 1),\n",
       " (u'Aurelius', 1),\n",
       " (u'tell', 2),\n",
       " (u'today', 1),\n",
       " (u'eyes', 1),\n",
       " (u'that', 1),\n",
       " (u'share', 1),\n",
       " (u'meddling', 1),\n",
       " (u'hurt', 1),\n",
       " (u'wake', 1),\n",
       " (u'with', 1),\n",
       " (u'me', 2),\n",
       " (u'ungrateful', 1),\n",
       " (u'none', 1),\n",
       " (u'this', 1),\n",
       " (u'work', 1),\n",
       " (u'Excerpt', 1),\n",
       " (u'up', 1),\n",
       " (u'will', 1),\n",
       " (u'iBooks', 1),\n",
       " (u'can', 4),\n",
       " (u'were', 1),\n",
       " (u'my', 2),\n",
       " (u'and', 6),\n",
       " (u'is', 1),\n",
       " (u'mind', 1),\n",
       " (u'To', 2),\n",
       " (u'someone', 1),\n",
       " (u'at', 2),\n",
       " (u'have', 2),\n",
       " (u'in', 2),\n",
       " (u'anger', 1),\n",
       " (u'seen', 1),\n",
       " (u'same', 2),\n",
       " (u'other', 1),\n",
       " (u'They', 1),\n",
       " (u'ugliness', 2),\n",
       " (u'you', 1),\n",
       " (u'Marcus', 1),\n",
       " (u'beauty', 1),\n",
       " (u'I', 3),\n",
       " (u'evil', 2),\n",
       " (u'blood', 1),\n",
       " (u'jealous', 1),\n",
       " (u'The', 1),\n",
       " (u'a', 2),\n",
       " (u'lower', 1),\n",
       " (u'together', 1),\n",
       " (u'so', 1),\n",
       " (u'teeth', 1),\n",
       " (u'the', 8)]"
      ]
     },
     "execution_count": 21,
     "metadata": {},
     "output_type": "execute_result"
    }
   ],
   "source": [
    "import re\n",
    "\n",
    "# Exercise 7.1:\n",
    "# Write a Spark job to count the occurrences of each word in a text file. Document that it works with a small example.\n",
    "\n",
    "my_text = sc.textFile(\"../tests/meditations.txt\")\n",
    "split_words = my_text.flatMap(lambda line: re.findall('\\w+', line, 0))\n",
    "map_count = split_words.map(lambda word: (word, 1))\n",
    "total_count = map_count.reduceByKey(lambda a, b: a + b) \n",
    "total_count.collect()"
   ]
  },
  {
   "cell_type": "code",
   "execution_count": 110,
   "metadata": {
    "collapsed": false
   },
   "outputs": [
    {
     "name": "stdout",
     "output_type": "stream",
     "text": [
      "Has Euler tour?  True\n",
      "Has Euler tour?  False\n",
      "Has Euler tour?  True\n",
      "Has Euler tour?  True\n",
      "Has Euler tour?  False\n"
     ]
    }
   ],
   "source": [
    "# Exercise 7.2:\n",
    "# Write a Spark job that determines if a graph has an Euler tour (all vertices have even degree) where you can assume that the graph you get is connected. \n",
    "# This file: \n",
    "# https://www.dropbox.com/s/usdi0wpsqm3jb7f/eulerGraphs.txt?dl=0 \n",
    "# has 5 graphs – for each graph, the first line tells the number of nodes N and the number of edges E. \n",
    "# The next E lines tells which two nodes are connected by an edge. \n",
    "# Two nodes can be connected by multiple edges.\n",
    "# It is fine if you split the file into 5 different files. You do not need to keep the node and edge counts in the top of the file.\n",
    "# Document that it works using a small example.\n",
    "\n",
    "graphs = [\"../tests/euler/1.txt\", \"../tests/euler/2.txt\", \"../tests/euler/3.txt\",\n",
    "         \"../tests/euler/4.txt\", \"../tests/euler/5.txt\"]\n",
    "\n",
    "def map_func(x):\n",
    "    if x[1] % 2 == 0:\n",
    "        return \"All\", True\n",
    "    else:\n",
    "        return \"All\", False\n",
    "    \n",
    "def reducerEuler(x, y):  # Test if all degress are even\n",
    "    return x & y\n",
    "    \n",
    "for graph_file in graphs:\n",
    "    graph = sc.textFile(graph_file)\n",
    "    nodes = graph.flatMap(lambda line: line.split())\n",
    "    node_degrees = nodes.map(lambda node: (node, 1)) \n",
    "    r1 = node_degrees.reduceByKey(lambda x,y: x + y)\n",
    "    r2 = r1.map(map_func)\n",
    "    print 'Has Euler tour? ', r2.reduceByKey(reducerEuler).collect()[0][1]\n",
    "\n"
   ]
  },
  {
   "cell_type": "code",
   "execution_count": null,
   "metadata": {
    "collapsed": true
   },
   "outputs": [],
   "source": []
  },
  {
   "cell_type": "code",
   "execution_count": null,
   "metadata": {
    "collapsed": true
   },
   "outputs": [],
   "source": []
  },
  {
   "cell_type": "code",
   "execution_count": null,
   "metadata": {
    "collapsed": true
   },
   "outputs": [],
   "source": []
  }
 ],
 "metadata": {
  "kernelspec": {
   "display_name": "Python 2",
   "language": "python",
   "name": "python2"
  },
  "language_info": {
   "codemirror_mode": {
    "name": "ipython",
    "version": 2
   },
   "file_extension": ".py",
   "mimetype": "text/x-python",
   "name": "python",
   "nbconvert_exporter": "python",
   "pygments_lexer": "ipython2",
   "version": "2.7.6"
  }
 },
 "nbformat": 4,
 "nbformat_minor": 0
}
