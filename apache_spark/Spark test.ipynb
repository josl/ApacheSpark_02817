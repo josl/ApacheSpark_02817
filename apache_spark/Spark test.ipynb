{
    "cells": [
        {
            "cell_type": "code",
            "execution_count": 1,
            "metadata": {
                "collapsed": false,
                "id": "7c5d1efd-fa61-4e8b-ad0c-6526c0b40bd2",
                "focus": false
            },
            "outputs": [
                {
                    "name": "stdout",
                    "output_type": "stream",
                    "text": [
                        "4999950000\n",
                        "714264285\n"
                    ]
                }
            ],
            "source": "# Check that Spark is working\nlargeRange = sc.parallelize(xrange(100000))\nreduceTest = largeRange.reduce(lambda a, b: a + b)\nfilterReduceTest = largeRange.filter(lambda x: x % 7 == 0).sum()\n\nprint reduceTest\nprint filterReduceTest\n\n# If the Spark jobs don't work properly these will raise an AssertionError\nassert reduceTest == 4999950000\nassert filterReduceTest == 714264285  "
        },
        {
            "cell_type": "code",
            "execution_count": null,
            "metadata": {
                "collapsed": true,
                "id": "7131f02f-969f-4d42-89be-f292296b89dc",
                "focus": false
            },
            "outputs": [],
            "source": []
        },
        {
            "cell_type": "code",
            "execution_count": null,
            "metadata": {
                "collapsed": false,
                "focus": true,
                "id": "62b9c644-5c87-4ba7-8a3f-7a9729ef1e39"
            },
            "outputs": [],
            "source": ""
        }
    ],
    "metadata": {
        "kernelspec": {
            "display_name": "Python 2",
            "language": "python",
            "name": "python2"
        },
        "language_info": {
            "codemirror_mode": {
                "name": "ipython",
                "version": 2
            },
            "file_extension": ".py",
            "mimetype": "text/x-python",
            "name": "python",
            "nbconvert_exporter": "python",
            "pygments_lexer": "ipython2",
            "version": "2.7.6"
        }
    },
    "nbformat": 4,
    "nbformat_minor": 0
}